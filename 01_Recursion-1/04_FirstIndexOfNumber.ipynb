{
  "nbformat": 4,
  "nbformat_minor": 0,
  "metadata": {
    "colab": {
      "name": "04_FirstIndexOfNumber.ipynb",
      "provenance": [],
      "authorship_tag": "ABX9TyOrO0fBTfPOJpWtvTkdO9V1",
      "include_colab_link": true
    },
    "kernelspec": {
      "name": "python3",
      "display_name": "Python 3"
    }
  },
  "cells": [
    {
      "cell_type": "markdown",
      "metadata": {
        "id": "view-in-github",
        "colab_type": "text"
      },
      "source": [
        "<a href=\"https://colab.research.google.com/github/meghanath2052/Data_Structures_And_Algorithms_in_Python_Coding_Ninjas/blob/master/01_Recursion-1/04_FirstIndexOfNumber.ipynb\" target=\"_parent\"><img src=\"https://colab.research.google.com/assets/colab-badge.svg\" alt=\"Open In Colab\"/></a>"
      ]
    },
    {
      "cell_type": "code",
      "metadata": {
        "id": "F9Q6h8haWCjW",
        "outputId": "ccd6e2c9-19a0-480a-eda3-4ca33219aa2e",
        "colab": {
          "base_uri": "https://localhost:8080/",
          "height": 84
        }
      },
      "source": [
        "def firstIndex(arr, si, x):\n",
        "    l = len(arr)\n",
        "    if l == 0:\n",
        "        return -1 \n",
        "    if arr[si] == x:\n",
        "        return si\n",
        "    return firstIndex(arr, si+1, x)\n",
        "\n",
        "def firstIndex(arr, x):\n",
        "    l = len(arr)\n",
        "    if l == 0:\n",
        "        return -1\n",
        "    \n",
        "    if arr[0] == x:\n",
        "        return 0\n",
        "    \n",
        "    smallerList = arr[1:]\n",
        "    smallerListOutput = firstIndex(smallerList, x)\n",
        "    if smallerListOutput == -1:\n",
        "        return -1\n",
        "    else:\n",
        "        return smallerListOutput + 1\n",
        "\n",
        "# Main\n",
        "from sys import setrecursionlimit\n",
        "setrecursionlimit(11000)\n",
        "n=int(input())\n",
        "arr=list(int(i) for i in input().strip().split(' '))\n",
        "x=int(input())\n",
        "print(firstIndex(arr, x))\n",
        "\n",
        "\n"
      ],
      "execution_count": 1,
      "outputs": [
        {
          "output_type": "stream",
          "text": [
            "4\n",
            "9 1 10 10\n",
            "10\n",
            "2\n"
          ],
          "name": "stdout"
        }
      ]
    }
  ]
}
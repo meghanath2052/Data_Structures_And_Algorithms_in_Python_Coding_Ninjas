{
  "nbformat": 4,
  "nbformat_minor": 0,
  "metadata": {
    "colab": {
      "name": "05_LastIndexOfNumber.ipynb",
      "provenance": [],
      "authorship_tag": "ABX9TyOe5s7wAuBkh4X5aA4iNDNL",
      "include_colab_link": true
    },
    "kernelspec": {
      "name": "python3",
      "display_name": "Python 3"
    }
  },
  "cells": [
    {
      "cell_type": "markdown",
      "metadata": {
        "id": "view-in-github",
        "colab_type": "text"
      },
      "source": [
        "<a href=\"https://colab.research.google.com/github/meghanath2052/Data_Structures_And_Algorithms_in_Python_Coding_Ninjas/blob/master/01_Recursion-1/05_LastIndexOfNumber.ipynb\" target=\"_parent\"><img src=\"https://colab.research.google.com/assets/colab-badge.svg\" alt=\"Open In Colab\"/></a>"
      ]
    },
    {
      "cell_type": "code",
      "metadata": {
        "id": "F9Q6h8haWCjW",
        "outputId": "0fd27269-fd77-4096-a557-e27bd20d7e8f",
        "colab": {
          "base_uri": "https://localhost:8080/",
          "height": 84
        }
      },
      "source": [
        "## Read input as specified in the question.\n",
        "## Print output as specified in the question.\n",
        "def lastIndex(arr, x):\n",
        "    l = len(arr)\n",
        "    if l == 0:\n",
        "        return -1\n",
        "    \n",
        "    smallerList = arr[1:]\n",
        "    smallerListOutput = lastIndex(smallerList, x)\n",
        "    if smallerListOutput != -1:\n",
        "        return smallerListOutput +1\n",
        "    else:\n",
        "        if arr[0] == x:\n",
        "            return 0\n",
        "        else:\n",
        "            return -1\n",
        "\n",
        "\n",
        "def lastIndexBetter(arr, si, x):\n",
        "    l = len(arr)\n",
        "    if si == l:\n",
        "        return -1\n",
        "    smallerListOutput = lastIndexBetter(arr, si+1, x)\n",
        "    if smallerListOutput != -1:\n",
        "        return smallerListOutput \n",
        "    else:\n",
        "        if arr[si] == x:\n",
        "            return si\n",
        "        else:\n",
        "            return -1\n",
        "\n",
        "from sys import setrecursionlimit\n",
        "setrecursionlimit(11000)\n",
        "n=int(input())\n",
        "arr=list(int(i) for i in input().strip().split(' '))\n",
        "x=int(input())\n",
        "print(lastIndex(arr, x))\n"
      ],
      "execution_count": 1,
      "outputs": [
        {
          "output_type": "stream",
          "text": [
            "4\n",
            "9 8 10 8\n",
            "8\n",
            "3\n"
          ],
          "name": "stdout"
        }
      ]
    }
  ]
}
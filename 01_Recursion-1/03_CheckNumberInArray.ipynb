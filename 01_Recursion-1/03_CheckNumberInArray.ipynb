{
  "nbformat": 4,
  "nbformat_minor": 0,
  "metadata": {
    "colab": {
      "name": "03_CheckNumberInArray.ipynb",
      "provenance": [],
      "authorship_tag": "ABX9TyOa0aeGVvhSp+ncA1gJknQG",
      "include_colab_link": true
    },
    "kernelspec": {
      "name": "python3",
      "display_name": "Python 3"
    }
  },
  "cells": [
    {
      "cell_type": "markdown",
      "metadata": {
        "id": "view-in-github",
        "colab_type": "text"
      },
      "source": [
        "<a href=\"https://colab.research.google.com/github/meghanath2052/Data_Structures_And_Algorithms_in_Python_Coding_Ninjas/blob/master/01_Recursion-1/03_CheckNumberInArray.ipynb\" target=\"_parent\"><img src=\"https://colab.research.google.com/assets/colab-badge.svg\" alt=\"Open In Colab\"/></a>"
      ]
    },
    {
      "cell_type": "code",
      "metadata": {
        "id": "F9Q6h8haWCjW",
        "outputId": "3fcbe0aa-a172-4b42-e6d2-5bb4f2bd74c6",
        "colab": {
          "base_uri": "https://localhost:8080/",
          "height": 84
        }
      },
      "source": [
        "def checkNumber(arr, x):\n",
        "    for i in range (0,len(arr)):\n",
        "        if arr[i] == x:\n",
        "            return True\n",
        "        \n",
        "\n",
        "# Main\n",
        "from sys import setrecursionlimit\n",
        "setrecursionlimit(11000)\n",
        "n=int(input())\n",
        "arr=list(int(i) for i in input().strip().split(' '))\n",
        "x=int(input())\n",
        "if checkNumber(arr, x):\n",
        "    print('true')\n",
        "else:\n",
        "    print('false')\n"
      ],
      "execution_count": 1,
      "outputs": [
        {
          "output_type": "stream",
          "text": [
            "3\n",
            "9 8 10\n",
            "8\n",
            "true\n"
          ],
          "name": "stdout"
        }
      ]
    }
  ]
}
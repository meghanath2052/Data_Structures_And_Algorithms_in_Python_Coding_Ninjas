{
  "nbformat": 4,
  "nbformat_minor": 0,
  "metadata": {
    "colab": {
      "name": "02_RemoveDuplicatesRecursively.ipynb",
      "provenance": [],
      "authorship_tag": "ABX9TyOQvUI55n90Njq36+nYm4x3",
      "include_colab_link": true
    },
    "kernelspec": {
      "name": "python3",
      "display_name": "Python 3"
    }
  },
  "cells": [
    {
      "cell_type": "markdown",
      "metadata": {
        "id": "view-in-github",
        "colab_type": "text"
      },
      "source": [
        "<a href=\"https://colab.research.google.com/github/meghanath2052/Data_Structures_And_Algorithms_in_Python_Coding_Ninjas/blob/master/02_Recurrsion-2/02_RemoveDuplicatesRecursively.ipynb\" target=\"_parent\"><img src=\"https://colab.research.google.com/assets/colab-badge.svg\" alt=\"Open In Colab\"/></a>"
      ]
    },
    {
      "cell_type": "code",
      "metadata": {
        "id": "1J4mSEBQomM0",
        "outputId": "423f11e3-eaaa-46e3-f9fb-56e8dce47104",
        "colab": {
          "base_uri": "https://localhost:8080/",
          "height": 50
        }
      },
      "source": [
        "# Problem ID 91, removeConsecutiveDuplicates\n",
        "def removeConsecutiveDuplicates(string):\n",
        "    if len(string) == 1:\n",
        "        return string\n",
        "    \n",
        "    if string[0] == string[1]:\n",
        "        smallOutput = removeConsecutiveDuplicates(string[1:])\n",
        "        return smallOutput   \n",
        "    \n",
        "    else:\n",
        "        nextOutput = removeConsecutiveDuplicates(string[1:])\n",
        "        return string[0] + nextOutput\n",
        "\n",
        "# Main\n",
        "string = input().strip()\n",
        "print(removeConsecutiveDuplicates(string))"
      ],
      "execution_count": 1,
      "outputs": [
        {
          "output_type": "stream",
          "text": [
            "baabbsbbahsahbahshhbhsjjjj\n",
            "babsbahsahbahshbhsj\n"
          ],
          "name": "stdout"
        }
      ]
    }
  ]
}
{
  "nbformat": 4,
  "nbformat_minor": 0,
  "metadata": {
    "colab": {
      "name": "03_MergeSort.ipynb",
      "provenance": [],
      "authorship_tag": "ABX9TyMD67dcExixMsxa2O8w3yAm",
      "include_colab_link": true
    },
    "kernelspec": {
      "name": "python3",
      "display_name": "Python 3"
    }
  },
  "cells": [
    {
      "cell_type": "markdown",
      "metadata": {
        "id": "view-in-github",
        "colab_type": "text"
      },
      "source": [
        "<a href=\"https://colab.research.google.com/github/meghanath2052/Data_Structures_And_Algorithms_in_Python_Coding_Ninjas/blob/master/02_Recurrsion-2/03_MergeSort.ipynb\" target=\"_parent\"><img src=\"https://colab.research.google.com/assets/colab-badge.svg\" alt=\"Open In Colab\"/></a>"
      ]
    },
    {
      "cell_type": "code",
      "metadata": {
        "id": "1J4mSEBQomM0",
        "outputId": "f2963c56-dc56-4ce2-923a-c489798316db",
        "colab": {
          "base_uri": "https://localhost:8080/",
          "height": 67
        }
      },
      "source": [
        "def merge(a1, a2, a):\n",
        "    i = 0\n",
        "    j = 0\n",
        "    k = 0\n",
        "    \n",
        "    while i < len(a1) and j <len(a2):\n",
        "        if a1[i] < a2[j]:\n",
        "            a[k] = a1[i]\n",
        "            k = k + 1\n",
        "            i = i + 1\n",
        "        else:\n",
        "            a[k] = a2[j]\n",
        "            k = k + 1\n",
        "            j = j + 1\n",
        "    \n",
        "    while i < len(a1):\n",
        "        a[k] = a1[i]\n",
        "        k = k + 1\n",
        "        i = i + 1\n",
        "    \n",
        "    while j < len(a2):\n",
        "        a[k] = a2[j]\n",
        "        k = k + 1\n",
        "        j = j + 1\n",
        "def mergeSort(a):\n",
        "    if len(a) == 0 or len(a) == 1:\n",
        "        return \n",
        "    \n",
        "    mid = len(a)//2\n",
        "    \n",
        "    a1 = a[:mid]\n",
        "    a2 = a[mid:]\n",
        "    \n",
        "    mergeSort(a1)\n",
        "    mergeSort(a2)\n",
        "    \n",
        "    merge(a1, a2, a)\n",
        "# Main\n",
        "n=int(input())\n",
        "arr=list(int(i) for i in input().strip().split(' '))\n",
        "mergeSort(arr)\n",
        "print(*arr)\n"
      ],
      "execution_count": 2,
      "outputs": [
        {
          "output_type": "stream",
          "text": [
            "6\n",
            "1 6 3 5 2 4\n",
            "1 2 3 4 5 6\n"
          ],
          "name": "stdout"
        }
      ]
    }
  ]
}
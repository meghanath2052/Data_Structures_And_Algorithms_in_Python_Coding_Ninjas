{
  "nbformat": 4,
  "nbformat_minor": 0,
  "metadata": {
    "colab": {
      "name": "01_RemoveX.ipynb",
      "provenance": [],
      "authorship_tag": "ABX9TyMAChtssaK6KVV5RA6GLCrU",
      "include_colab_link": true
    },
    "kernelspec": {
      "name": "python3",
      "display_name": "Python 3"
    }
  },
  "cells": [
    {
      "cell_type": "markdown",
      "metadata": {
        "id": "view-in-github",
        "colab_type": "text"
      },
      "source": [
        "<a href=\"https://colab.research.google.com/github/meghanath2052/Data_Structures_And_Algorithms_in_Python_Coding_Ninjas/blob/master/02_Recurrsion-2/01_RemoveX.ipynb\" target=\"_parent\"><img src=\"https://colab.research.google.com/assets/colab-badge.svg\" alt=\"Open In Colab\"/></a>"
      ]
    },
    {
      "cell_type": "code",
      "metadata": {
        "id": "1J4mSEBQomM0",
        "outputId": "0c3d60ac-6bf6-4c89-cac4-7fd08a43e794",
        "colab": {
          "base_uri": "https://localhost:8080/",
          "height": 50
        }
      },
      "source": [
        "# Problem: Remove x from string\n",
        "def removeX(string): \n",
        "    if len(string) == 0:\n",
        "        return string\n",
        "    smallOutput = removeX(string[1:])\n",
        "    if string[0] == 'x':\n",
        "        return smallOutput\n",
        "    else:\n",
        "        return string[0]+smallOutput\n",
        "# Main\n",
        "string = input()\n",
        "print(removeX(string))\n"
      ],
      "execution_count": 1,
      "outputs": [
        {
          "output_type": "stream",
          "text": [
            "cxxxxxxxxyxc\n",
            "cyc\n"
          ],
          "name": "stdout"
        }
      ]
    }
  ]
}
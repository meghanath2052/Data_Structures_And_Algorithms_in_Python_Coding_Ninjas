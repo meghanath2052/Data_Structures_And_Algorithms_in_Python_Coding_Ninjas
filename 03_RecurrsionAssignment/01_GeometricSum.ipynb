{
  "nbformat": 4,
  "nbformat_minor": 0,
  "metadata": {
    "colab": {
      "name": "01_GeometricSum.ipynb",
      "provenance": [],
      "authorship_tag": "ABX9TyO8THBw4p8umRuEDnCKkQ7C",
      "include_colab_link": true
    },
    "kernelspec": {
      "name": "python3",
      "display_name": "Python 3"
    }
  },
  "cells": [
    {
      "cell_type": "markdown",
      "metadata": {
        "id": "view-in-github",
        "colab_type": "text"
      },
      "source": [
        "<a href=\"https://colab.research.google.com/github/meghanath2052/Data_Structures_And_Algorithms_in_Python_Coding_Ninjas/blob/master/03_RecurrsionAssignment/01_GeometricSum.ipynb\" target=\"_parent\"><img src=\"https://colab.research.google.com/assets/colab-badge.svg\" alt=\"Open In Colab\"/></a>"
      ]
    },
    {
      "cell_type": "code",
      "metadata": {
        "id": "1J4mSEBQomM0",
        "outputId": "c22bea7a-0ade-49d4-8c1b-8db137329d5a",
        "colab": {
          "base_uri": "https://localhost:8080/",
          "height": 50
        }
      },
      "source": [
        "def geometricSum(k):\n",
        "    if k == 0 :\n",
        "        return 1.00000\n",
        "    smallOutput = geometricSum(k-1)\n",
        "    sum = (1/(2**k)) + smallOutput\n",
        "    return sum\n",
        "k = float(input())\n",
        "sum = geometricSum(k)\n",
        "\n",
        "print(\"{0:.5f}\".format(sum)) # This is done because the codzen was expecting 5 decimals"
      ],
      "execution_count": 1,
      "outputs": [
        {
          "output_type": "stream",
          "text": [
            "3\n",
            "1.87500\n"
          ],
          "name": "stdout"
        }
      ]
    }
  ]
}
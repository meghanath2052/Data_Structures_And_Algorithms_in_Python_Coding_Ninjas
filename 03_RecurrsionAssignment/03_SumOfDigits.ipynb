{
  "nbformat": 4,
  "nbformat_minor": 0,
  "metadata": {
    "colab": {
      "name": "03_SumOfDigits.ipynb",
      "provenance": [],
      "authorship_tag": "ABX9TyPIkoqEWno1bwa7RSKyhzNL",
      "include_colab_link": true
    },
    "kernelspec": {
      "name": "python3",
      "display_name": "Python 3"
    }
  },
  "cells": [
    {
      "cell_type": "markdown",
      "metadata": {
        "id": "view-in-github",
        "colab_type": "text"
      },
      "source": [
        "<a href=\"https://colab.research.google.com/github/meghanath2052/Data_Structures_And_Algorithms_in_Python_Coding_Ninjas/blob/master/03_RecurrsionAssignment/03_SumOfDigits.ipynb\" target=\"_parent\"><img src=\"https://colab.research.google.com/assets/colab-badge.svg\" alt=\"Open In Colab\"/></a>"
      ]
    },
    {
      "cell_type": "code",
      "metadata": {
        "id": "1J4mSEBQomM0",
        "outputId": "2d5ba22a-0b28-440e-b7da-6497b6b748da",
        "colab": {
          "base_uri": "https://localhost:8080/",
          "height": 50
        }
      },
      "source": [
        "## Read input as specified in the question.\n",
        "## Print output as specified in the question.   \n",
        "def digitsSum(n):\n",
        "    if n == 0:\n",
        "        return 0\n",
        "    return (n % 10 + digitsSum(int(n / 10)))\n",
        "    \n",
        "n = int(input())\n",
        "\n",
        "print(digitsSum(n))"
      ],
      "execution_count": 1,
      "outputs": [
        {
          "output_type": "stream",
          "text": [
            "12321\n",
            "9\n"
          ],
          "name": "stdout"
        }
      ]
    }
  ]
}
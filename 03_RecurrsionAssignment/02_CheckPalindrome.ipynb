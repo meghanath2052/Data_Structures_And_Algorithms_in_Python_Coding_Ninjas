{
  "nbformat": 4,
  "nbformat_minor": 0,
  "metadata": {
    "colab": {
      "name": "02_CheckPalindrome.ipynb",
      "provenance": [],
      "authorship_tag": "ABX9TyPVtfbKAivM98tohljPiDFs",
      "include_colab_link": true
    },
    "kernelspec": {
      "name": "python3",
      "display_name": "Python 3"
    }
  },
  "cells": [
    {
      "cell_type": "markdown",
      "metadata": {
        "id": "view-in-github",
        "colab_type": "text"
      },
      "source": [
        "<a href=\"https://colab.research.google.com/github/meghanath2052/Data_Structures_And_Algorithms_in_Python_Coding_Ninjas/blob/master/03_RecurrsionAssignment/02_CheckPalindrome.ipynb\" target=\"_parent\"><img src=\"https://colab.research.google.com/assets/colab-badge.svg\" alt=\"Open In Colab\"/></a>"
      ]
    },
    {
      "cell_type": "code",
      "metadata": {
        "id": "1J4mSEBQomM0",
        "outputId": "6ec07359-8702-4aad-934f-f2669e1ab095",
        "colab": {
          "base_uri": "https://localhost:8080/",
          "height": 50
        }
      },
      "source": [
        "def isPalRec(st, s, e) : \n",
        "      \n",
        "    # If there is only one character \n",
        "    if (s == e): \n",
        "        return 'true'\n",
        "  \n",
        "    # If first and last \n",
        "    # characters do not match \n",
        "    if (st[s] != st[e]) : \n",
        "        return 'false'\n",
        "  \n",
        "    # If there are more than  \n",
        "    # two characters, check if  \n",
        "    # middle substring is also  \n",
        "    # palindrome or not. \n",
        "    if (s < e + 1) : \n",
        "        return isPalRec(st, s + 1, e - 1); \n",
        "  \n",
        "    return 'true'\n",
        "  \n",
        "def isPalindrome(st) : \n",
        "    n = len(st) \n",
        "      \n",
        "    # An empty string is  \n",
        "    # considered as palindrome \n",
        "    if (n == 0) : \n",
        "        return 'true'\n",
        "      \n",
        "    return isPalRec(st, 0, n - 1); \n",
        "string = input()\n",
        "print(isPalindrome(string))"
      ],
      "execution_count": 1,
      "outputs": [
        {
          "output_type": "stream",
          "text": [
            "racecar\n",
            "true\n"
          ],
          "name": "stdout"
        }
      ]
    }
  ]
}